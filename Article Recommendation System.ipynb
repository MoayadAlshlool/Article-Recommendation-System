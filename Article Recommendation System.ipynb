{
  "nbformat": 4,
  "nbformat_minor": 0,
  "metadata": {
    "colab": {
      "provenance": []
    },
    "kernelspec": {
      "name": "python3",
      "display_name": "Python 3"
    },
    "language_info": {
      "name": "python"
    }
  },
  "cells": [
    {
      "cell_type": "code",
      "execution_count": null,
      "metadata": {
        "id": "OFmKC0OnFc28"
      },
      "outputs": [],
      "source": [
        "# Importing necessary libraries\n",
        "\n",
        "import pandas as pd\n",
        "import numpy as np\n",
        "from sklearn.feature_extraction import text\n",
        "from sklearn.metrics.pairwise import cosine_similarity\n",
        "import pandas as pd\n",
        "from sklearn.feature_extraction.text import TfidfVectorizer\n",
        "from sklearn.metrics.pairwise import cosine_similarity"
      ]
    },
    {
      "cell_type": "code",
      "source": [
        "# reading a CSV file from a given URL into a pandas DataFrame.\n",
        "df = pd.read_csv(\"/content/articles.csv\", encoding='latin1')"
      ],
      "metadata": {
        "id": "_gtKhgF6aeem"
      },
      "execution_count": null,
      "outputs": []
    },
    {
      "cell_type": "code",
      "source": [
        "# Displaying the first few rows of the DataFrame\n",
        "df.head()"
      ],
      "metadata": {
        "colab": {
          "base_uri": "https://localhost:8080/",
          "height": 206
        },
        "id": "ujo3_Zliaiwg",
        "outputId": "cc500b05-1a6d-4a0b-f1cd-71b227365d23"
      },
      "execution_count": null,
      "outputs": [
        {
          "output_type": "execute_result",
          "data": {
            "text/plain": [
              "                                             Article  \\\n",
              "0  Data analysis is the process of inspecting and...   \n",
              "1  The performance of a machine learning algorith...   \n",
              "2  You must have seen the news divided into categ...   \n",
              "3  When there are only two classes in a classific...   \n",
              "4  The Multinomial Naive Bayes is one of the vari...   \n",
              "\n",
              "                                               Title  \n",
              "0                  Best Books to Learn Data Analysis  \n",
              "1         Assumptions of Machine Learning Algorithms  \n",
              "2          News Classification with Machine Learning  \n",
              "3  Multiclass Classification Algorithms in Machin...  \n",
              "4        Multinomial Naive Bayes in Machine Learning  "
            ],
            "text/html": [
              "\n",
              "  <div id=\"df-57eb8ccc-402b-4ac6-9954-83e74324ae30\" class=\"colab-df-container\">\n",
              "    <div>\n",
              "<style scoped>\n",
              "    .dataframe tbody tr th:only-of-type {\n",
              "        vertical-align: middle;\n",
              "    }\n",
              "\n",
              "    .dataframe tbody tr th {\n",
              "        vertical-align: top;\n",
              "    }\n",
              "\n",
              "    .dataframe thead th {\n",
              "        text-align: right;\n",
              "    }\n",
              "</style>\n",
              "<table border=\"1\" class=\"dataframe\">\n",
              "  <thead>\n",
              "    <tr style=\"text-align: right;\">\n",
              "      <th></th>\n",
              "      <th>Article</th>\n",
              "      <th>Title</th>\n",
              "    </tr>\n",
              "  </thead>\n",
              "  <tbody>\n",
              "    <tr>\n",
              "      <th>0</th>\n",
              "      <td>Data analysis is the process of inspecting and...</td>\n",
              "      <td>Best Books to Learn Data Analysis</td>\n",
              "    </tr>\n",
              "    <tr>\n",
              "      <th>1</th>\n",
              "      <td>The performance of a machine learning algorith...</td>\n",
              "      <td>Assumptions of Machine Learning Algorithms</td>\n",
              "    </tr>\n",
              "    <tr>\n",
              "      <th>2</th>\n",
              "      <td>You must have seen the news divided into categ...</td>\n",
              "      <td>News Classification with Machine Learning</td>\n",
              "    </tr>\n",
              "    <tr>\n",
              "      <th>3</th>\n",
              "      <td>When there are only two classes in a classific...</td>\n",
              "      <td>Multiclass Classification Algorithms in Machin...</td>\n",
              "    </tr>\n",
              "    <tr>\n",
              "      <th>4</th>\n",
              "      <td>The Multinomial Naive Bayes is one of the vari...</td>\n",
              "      <td>Multinomial Naive Bayes in Machine Learning</td>\n",
              "    </tr>\n",
              "  </tbody>\n",
              "</table>\n",
              "</div>\n",
              "    <div class=\"colab-df-buttons\">\n",
              "\n",
              "  <div class=\"colab-df-container\">\n",
              "    <button class=\"colab-df-convert\" onclick=\"convertToInteractive('df-57eb8ccc-402b-4ac6-9954-83e74324ae30')\"\n",
              "            title=\"Convert this dataframe to an interactive table.\"\n",
              "            style=\"display:none;\">\n",
              "\n",
              "  <svg xmlns=\"http://www.w3.org/2000/svg\" height=\"24px\" viewBox=\"0 -960 960 960\">\n",
              "    <path d=\"M120-120v-720h720v720H120Zm60-500h600v-160H180v160Zm220 220h160v-160H400v160Zm0 220h160v-160H400v160ZM180-400h160v-160H180v160Zm440 0h160v-160H620v160ZM180-180h160v-160H180v160Zm440 0h160v-160H620v160Z\"/>\n",
              "  </svg>\n",
              "    </button>\n",
              "\n",
              "  <style>\n",
              "    .colab-df-container {\n",
              "      display:flex;\n",
              "      gap: 12px;\n",
              "    }\n",
              "\n",
              "    .colab-df-convert {\n",
              "      background-color: #E8F0FE;\n",
              "      border: none;\n",
              "      border-radius: 50%;\n",
              "      cursor: pointer;\n",
              "      display: none;\n",
              "      fill: #1967D2;\n",
              "      height: 32px;\n",
              "      padding: 0 0 0 0;\n",
              "      width: 32px;\n",
              "    }\n",
              "\n",
              "    .colab-df-convert:hover {\n",
              "      background-color: #E2EBFA;\n",
              "      box-shadow: 0px 1px 2px rgba(60, 64, 67, 0.3), 0px 1px 3px 1px rgba(60, 64, 67, 0.15);\n",
              "      fill: #174EA6;\n",
              "    }\n",
              "\n",
              "    .colab-df-buttons div {\n",
              "      margin-bottom: 4px;\n",
              "    }\n",
              "\n",
              "    [theme=dark] .colab-df-convert {\n",
              "      background-color: #3B4455;\n",
              "      fill: #D2E3FC;\n",
              "    }\n",
              "\n",
              "    [theme=dark] .colab-df-convert:hover {\n",
              "      background-color: #434B5C;\n",
              "      box-shadow: 0px 1px 3px 1px rgba(0, 0, 0, 0.15);\n",
              "      filter: drop-shadow(0px 1px 2px rgba(0, 0, 0, 0.3));\n",
              "      fill: #FFFFFF;\n",
              "    }\n",
              "  </style>\n",
              "\n",
              "    <script>\n",
              "      const buttonEl =\n",
              "        document.querySelector('#df-57eb8ccc-402b-4ac6-9954-83e74324ae30 button.colab-df-convert');\n",
              "      buttonEl.style.display =\n",
              "        google.colab.kernel.accessAllowed ? 'block' : 'none';\n",
              "\n",
              "      async function convertToInteractive(key) {\n",
              "        const element = document.querySelector('#df-57eb8ccc-402b-4ac6-9954-83e74324ae30');\n",
              "        const dataTable =\n",
              "          await google.colab.kernel.invokeFunction('convertToInteractive',\n",
              "                                                    [key], {});\n",
              "        if (!dataTable) return;\n",
              "\n",
              "        const docLinkHtml = 'Like what you see? Visit the ' +\n",
              "          '<a target=\"_blank\" href=https://colab.research.google.com/notebooks/data_table.ipynb>data table notebook</a>'\n",
              "          + ' to learn more about interactive tables.';\n",
              "        element.innerHTML = '';\n",
              "        dataTable['output_type'] = 'display_data';\n",
              "        await google.colab.output.renderOutput(dataTable, element);\n",
              "        const docLink = document.createElement('div');\n",
              "        docLink.innerHTML = docLinkHtml;\n",
              "        element.appendChild(docLink);\n",
              "      }\n",
              "    </script>\n",
              "  </div>\n",
              "\n",
              "\n",
              "<div id=\"df-2678ced0-bb2f-40c4-a996-eace60ed48bc\">\n",
              "  <button class=\"colab-df-quickchart\" onclick=\"quickchart('df-2678ced0-bb2f-40c4-a996-eace60ed48bc')\"\n",
              "            title=\"Suggest charts\"\n",
              "            style=\"display:none;\">\n",
              "\n",
              "<svg xmlns=\"http://www.w3.org/2000/svg\" height=\"24px\"viewBox=\"0 0 24 24\"\n",
              "     width=\"24px\">\n",
              "    <g>\n",
              "        <path d=\"M19 3H5c-1.1 0-2 .9-2 2v14c0 1.1.9 2 2 2h14c1.1 0 2-.9 2-2V5c0-1.1-.9-2-2-2zM9 17H7v-7h2v7zm4 0h-2V7h2v10zm4 0h-2v-4h2v4z\"/>\n",
              "    </g>\n",
              "</svg>\n",
              "  </button>\n",
              "\n",
              "<style>\n",
              "  .colab-df-quickchart {\n",
              "      --bg-color: #E8F0FE;\n",
              "      --fill-color: #1967D2;\n",
              "      --hover-bg-color: #E2EBFA;\n",
              "      --hover-fill-color: #174EA6;\n",
              "      --disabled-fill-color: #AAA;\n",
              "      --disabled-bg-color: #DDD;\n",
              "  }\n",
              "\n",
              "  [theme=dark] .colab-df-quickchart {\n",
              "      --bg-color: #3B4455;\n",
              "      --fill-color: #D2E3FC;\n",
              "      --hover-bg-color: #434B5C;\n",
              "      --hover-fill-color: #FFFFFF;\n",
              "      --disabled-bg-color: #3B4455;\n",
              "      --disabled-fill-color: #666;\n",
              "  }\n",
              "\n",
              "  .colab-df-quickchart {\n",
              "    background-color: var(--bg-color);\n",
              "    border: none;\n",
              "    border-radius: 50%;\n",
              "    cursor: pointer;\n",
              "    display: none;\n",
              "    fill: var(--fill-color);\n",
              "    height: 32px;\n",
              "    padding: 0;\n",
              "    width: 32px;\n",
              "  }\n",
              "\n",
              "  .colab-df-quickchart:hover {\n",
              "    background-color: var(--hover-bg-color);\n",
              "    box-shadow: 0 1px 2px rgba(60, 64, 67, 0.3), 0 1px 3px 1px rgba(60, 64, 67, 0.15);\n",
              "    fill: var(--button-hover-fill-color);\n",
              "  }\n",
              "\n",
              "  .colab-df-quickchart-complete:disabled,\n",
              "  .colab-df-quickchart-complete:disabled:hover {\n",
              "    background-color: var(--disabled-bg-color);\n",
              "    fill: var(--disabled-fill-color);\n",
              "    box-shadow: none;\n",
              "  }\n",
              "\n",
              "  .colab-df-spinner {\n",
              "    border: 2px solid var(--fill-color);\n",
              "    border-color: transparent;\n",
              "    border-bottom-color: var(--fill-color);\n",
              "    animation:\n",
              "      spin 1s steps(1) infinite;\n",
              "  }\n",
              "\n",
              "  @keyframes spin {\n",
              "    0% {\n",
              "      border-color: transparent;\n",
              "      border-bottom-color: var(--fill-color);\n",
              "      border-left-color: var(--fill-color);\n",
              "    }\n",
              "    20% {\n",
              "      border-color: transparent;\n",
              "      border-left-color: var(--fill-color);\n",
              "      border-top-color: var(--fill-color);\n",
              "    }\n",
              "    30% {\n",
              "      border-color: transparent;\n",
              "      border-left-color: var(--fill-color);\n",
              "      border-top-color: var(--fill-color);\n",
              "      border-right-color: var(--fill-color);\n",
              "    }\n",
              "    40% {\n",
              "      border-color: transparent;\n",
              "      border-right-color: var(--fill-color);\n",
              "      border-top-color: var(--fill-color);\n",
              "    }\n",
              "    60% {\n",
              "      border-color: transparent;\n",
              "      border-right-color: var(--fill-color);\n",
              "    }\n",
              "    80% {\n",
              "      border-color: transparent;\n",
              "      border-right-color: var(--fill-color);\n",
              "      border-bottom-color: var(--fill-color);\n",
              "    }\n",
              "    90% {\n",
              "      border-color: transparent;\n",
              "      border-bottom-color: var(--fill-color);\n",
              "    }\n",
              "  }\n",
              "</style>\n",
              "\n",
              "  <script>\n",
              "    async function quickchart(key) {\n",
              "      const quickchartButtonEl =\n",
              "        document.querySelector('#' + key + ' button');\n",
              "      quickchartButtonEl.disabled = true;  // To prevent multiple clicks.\n",
              "      quickchartButtonEl.classList.add('colab-df-spinner');\n",
              "      try {\n",
              "        const charts = await google.colab.kernel.invokeFunction(\n",
              "            'suggestCharts', [key], {});\n",
              "      } catch (error) {\n",
              "        console.error('Error during call to suggestCharts:', error);\n",
              "      }\n",
              "      quickchartButtonEl.classList.remove('colab-df-spinner');\n",
              "      quickchartButtonEl.classList.add('colab-df-quickchart-complete');\n",
              "    }\n",
              "    (() => {\n",
              "      let quickchartButtonEl =\n",
              "        document.querySelector('#df-2678ced0-bb2f-40c4-a996-eace60ed48bc button');\n",
              "      quickchartButtonEl.style.display =\n",
              "        google.colab.kernel.accessAllowed ? 'block' : 'none';\n",
              "    })();\n",
              "  </script>\n",
              "</div>\n",
              "\n",
              "    </div>\n",
              "  </div>\n"
            ],
            "application/vnd.google.colaboratory.intrinsic+json": {
              "type": "dataframe",
              "variable_name": "df",
              "summary": "{\n  \"name\": \"df\",\n  \"rows\": 34,\n  \"fields\": [\n    {\n      \"column\": \"Article\",\n      \"properties\": {\n        \"dtype\": \"string\",\n        \"num_unique_values\": 33,\n        \"samples\": [\n          \"In machine learning, the Naive Bayes algorithm is based on Bayes' theorem with na\\u008bve assumptions. This makes it easier to train a model by assuming that the features are independent of each other. In this article, I will give you an introduction to the Naive Bayes algorithm in Machine Learning and its implementation using Python.\",\n          \"A neural network is a subset of machine learning that mimics the workings of a human brain while solving a complex problem based on deep learning. Neural networks are inspired by neurons found in the human brain. In this article, I'm going to introduce you to the types of neural networks you need to know as a Data Scientist.\",\n          \"Apple has just announced the date of its September event when it is about to launch the new iPhone 13. It is currently the centre of attention on the stock market. Stock market analysis is one of the popular applications of machine learning because we can predict stock prices using machine learning. So if you want to learn how to predict the stock prices of Apple with machine learning, this article is for you. In this article, I will walk you through the task of Apple stock price prediction with machine learning using Python.\"\n        ],\n        \"semantic_type\": \"\",\n        \"description\": \"\"\n      }\n    },\n    {\n      \"column\": \"Title\",\n      \"properties\": {\n        \"dtype\": \"string\",\n        \"num_unique_values\": 33,\n        \"samples\": [\n          \"Naive Bayes Algorithm in Machine Learning\",\n          \"Types of Neural Networks\",\n          \"Apple Stock Price Prediction with Machine Learning\"\n        ],\n        \"semantic_type\": \"\",\n        \"description\": \"\"\n      }\n    }\n  ]\n}"
            }
          },
          "metadata": {},
          "execution_count": 3
        }
      ]
    },
    {
      "cell_type": "code",
      "source": [
        "# converting the \"Article\" column to a list\n",
        "articles = df[\"Article\"].tolist()"
      ],
      "metadata": {
        "id": "Ygq4EIrPa73w"
      },
      "execution_count": null,
      "outputs": []
    },
    {
      "cell_type": "code",
      "source": [
        "# printing the list of articles\n",
        "print(articles)"
      ],
      "metadata": {
        "colab": {
          "base_uri": "https://localhost:8080/"
        },
        "id": "vZpFbxN4cXnd",
        "outputId": "c272bee9-5cac-470f-8b2f-ac2c2a893cd4"
      },
      "execution_count": null,
      "outputs": [
        {
          "output_type": "stream",
          "name": "stdout",
          "text": [
            "['Data analysis is the process of inspecting and exploring data generated by a particular population to find the information needed to make decisions and draw conclusions. With the use of data in decision making, most businesses today need data analysts. So, if you want to know about the best books to learn data analysis, this article is for you. In this article, I will introduce you to some of the best books to learn data analysis.', 'The performance of a machine learning algorithm on a particular dataset often depends on whether the features of the dataset satisfies the assumptions of that machine learning algorithm. Not all machine learning algorithms have assumptions that differentiate them from each other. So, in this article, I will take you through the assumptions of machine learning algorithms.', \"You must have seen the news divided into categories when you go to a news website. Some of the popular categories that you'll see on almost any news website are tech, entertainment, and sports. If you want to know how to classify news categories using machine learning, this article is for you. In this article, I will walk you through the task of news classification with machine learning using Python.\", 'When there are only two classes in a classification problem, this is the problem of binary classification, just like that, classification with more than two classes is called multiclass classification. If you want to know the best machine learning algorithms for multiclass classification, this article is for you. In this article, I will introduce you to some of the best multiclass classification algorithms in machine learning.', 'The Multinomial Naive Bayes is one of the variants of the Naive Bayes algorithm in machine learning. It is very useful when the data is distributed in a multinomial way. This algorithm is especially preferred in classification tasks based on natural language processing. Spam detection is one of the applications where this algorithm can be used. If you have never used the Multinomial Naive Bayes algorithm before, this article is for you. In this article, I will take you through an introduction to the Multinomial Naive Bayes algorithm in machine learning and its implementation using Python.', \"You must have seen the news divided into categories when you go to a news website. Some of the popular categories that you'll see on almost any news website are tech, entertainment, and sports. If you want to know how to classify news categories using machine learning, this article is for you. In this article, I will walk you through the task of news classification with machine learning using Python.\", 'Natural language processing or NLP is a subfield of artificial intelligence where we build applications to interact with humans. One of the examples of NLP applications is a chatbot which is used by so many websites to solve some of the common issues people face when taking their services. So, if you are looking for some of the best books for learning NLP, this article is for you. In this article, I will introduce you to the best books for learning NLP.', 'By using a third-party application or API to manage the functionality of an application, you are automating the application. If you send messages, post photos or videos, or follow someone without opening your Instagram directly, that means you are automating Instagram. So, if you want to learn how to send Instagram messages automatically using Python, this article is for you. In this article, I will present a tutorial on how to send Instagram messages using Python.', 'Twitter is one of the most popular social media apps where people are free to share their opinions on any topic. There are so many tweets recorded about Pfizer vaccine awareness that can be used to analyze the sentiments of people about the Pfizer vaccine. So, if you want to learn how to use a Twitter dataset for sentiment analysis, this article is for you. In this article, I will walk you through the task of Pfizer vaccine sentiment analysis using Python.', 'The squid game is currently one of the most trending shows on NetFlix. It is so much trending that people who have never watched any web series before are also watching it. One of the reasons behind this is the reviews and opinions of viewers on social media. So if you want to learn how to analyze the sentiments of people about Squid Game, then this article is for you. In this article, I will take you through the task of Squid Game sentiment analysis using Python.', 'Computer Vision is one of the fields of Artificial Intelligence that enables a computer to find meaningful information from digital images, videos and other visual sources of data. The Face ID found in iPhones is one of the best examples of the applications of computer vision. If you are looking for the best books to learn computer vision, this article is for you. In this article, I will take you through some of the best books to learn computer vision.', \"Python is one of the most popular programming languages today. It is preferred by data scientists and web developers and is currently used by companies like Google, Netflix, Facebook, Uber, Goldman Sachs, Paypal, and many more. There is a great demand for data science professionals today, and Python is one of the most important skills any data scientist should have. So, if you are looking for the best resources to learn Python, this article is for you. In this article, I'm going to introduce you to some of the best resources for learning the Python programming language.\", 'API stands for Application Programming Interface, it is a way to connect computers or computer programs. Simply put, you can think of it as software that helps in the development of other software. Many companies are looking for API developers today, so if you want to become an API developer, you need to educate yourself about API development. Python has many frameworks for building APIs, if you want to know about the best Python frameworks to build APIs, this article is for you. In this article, I will introduce you to the best Python frameworks to build APIs.', 'A voice recorder is found in every smartphone and computer today. It is an application that is used to record sound and save it in a specific file format, which can be listened to and transferred to another device. If you want to know how to make a voice recorder using Python, this article is for you. In this article, I will walk you through how to make a voice recorder using Python.', 'Language detection is a natural language processing task where we need to identify the language of a text or document. Using machine learning for language detection was a difficult task a few years ago because there was not a lot of data on languages, but with the availability of data with ease, several powerful machine learning models are already available for language detection. So, if you want to learn how to train a machine learning model for language detection, then this article is for you. In this article, I will walk you through the task of language detection with machine learning using Python.', 'A Multilayer Perceptron or MLP is one of the simplest feed-forward neural networks. Multilayer Perceptrons are the types of neural networks which are bidirectional as they foreword propagation of the inputs and backward propagation of the weights. If you want to learn about Multiplayer Perceptron in machine learning, then this article is for you. In this article, I will take you through an introduction to Multilayer Perceptron and its implementation using Python.', \"A neural network is a subset of machine learning that mimics the workings of a human brain while solving a complex problem based on deep learning. Neural networks are inspired by neurons found in the human brain. In this article, I'm going to introduce you to the types of neural networks you need to know as a Data Scientist.\", 'Clustering is the task of identifying similar instances based on similar features and assigning them to clusters based on similar instances. It sounds like classification where each insurance is also assigned to a group, but unlike classification, clustering is based on unsupervised learning. Here the dataset you deal with doesn?t have labels, so we cannot use a classification algorithm on a dataset without labels, this is where clustering algorithms comes in. If you want to learn all the clustering algorithms that you should know about as a data scientist, this article is for you. In this article, I will take you through an introduction to all clustering algorithms in machine learning.', \"Dictionaries are one of the most useful data structures in the Python programming language. A Python dictionary is used to store data in the form of key and value pairs. Most Python newbies get confused when iterating through a dictionary because the data is stored in key and value pairs. So if you want to learn how to use a for loop on the keys and values of a Python dictionary, this article is for you. In this article, I'll show you a tutorial on using a for loop on keys and values in a Python dictionary.\", 'Health Insurance is a type of insurance that covers medical expenses. A person who has taken a health insurance policy gets health insurance cover by paying a particular premium amount. There are a lot of factors that determine the premium of health insurance. So if you want to learn how we can use machine learning for predicting the premium of health insurance, then this article is for you. In this article, I will take you through the task of health insurance premium prediction with machine learning using Python.', \"The mean shift algorithm is a nonparametric clustering algorithm that does not require prior knowledge of the number of clusters. If you've never used the Mean Shift clustering algorithm, this article is for you. In this article, I'll take you through an introduction to Mean Shift clustering in Machine Learning and its implementation using Python.\", 'The BIRCH is a Clustering algorithm in machine learning. It stands for Balanced Reducing and Clustering using Hierarchies. In this article, I will take you through the concept of BIRCH Clustering in Machine Learning and its implementation using Python.', \"Agglomerative clustering is based on hierarchical clustering which is used to form a hierarchy of clusters. It is one of the types of clustering algorithms in machine learning. Unlike the K-Means and DBSCAN clustering algorithms, it is not very common but it is very efficient to form a hierarchy of clusters. If you've never used the agglomerative clustering algorithm before, this article is for you. In this article, I'll give you an introduction to agglomerative clustering in machine learning and its implementation using Python.\", 'DBSCAN stands for Density-Based Spatial Clustering for Applications with Noise. This is an unsupervised clustering algorithm that is used to find high-density base samples to extend the clusters. In this article, I will introduce you to DBSCAN clustering in Machine Learning using Python.', 'The K-Means Clustering is a clustering algorithm capable of clustering an unlabeled dataset quickly and efficiently in just a very few iterations. In this article, I will take you through the K-Means clustering in machine learning using Python.', 'A scatter plot is one of the most useful ways to analyze the relationship between two features. You must have used a scatter plot before if you are learning data science but have you ever tried to create an animated scatter plot using Python? If you want to learn how to visualize an animated scatter plot, this article is for you. In this article, I will take you through a tutorial on visualizing animated scatter plot using Python.', \"Recently, we have seen an increase of more than 10 per cent in the stock price of Tata Motors. This has resulted in more attention to Tata Group stocks from all over India. But again today, we are witnessing a fall in the prices of Tata Motors' shares, which can be a negative signal for investors. So, if you want to learn how to analyze and predict the Tata Motors stock price, this article is for you. In this article, I will walk you through the task of Tata Motors stock price prediction with machine learning using Python.\", 'Apple has just announced the date of its September event when it is about to launch the new iPhone 13. It is currently the centre of attention on the stock market. Stock market analysis is one of the popular applications of machine learning because we can predict stock prices using machine learning. So if you want to learn how to predict the stock prices of Apple with machine learning, this article is for you. In this article, I will walk you through the task of Apple stock price prediction with machine learning using Python.', 'Deep learning is a subset of machine learning in which we use artificial neural networks to train models to solve complex problems where we need a large amount of data compared to other machine learning algorithms. If you want to become a machine learning engineer, you must learn deep learning. So, if you are looking for the best books for learning deep learning, this article is for you. In this article, I will introduce you to some of the best books to learn deep learning.', 'Many machine learning algorithms can be used to solve complex problems that require a large amount of data with a large number of features, but deep learning can outperform all algorithms. So to understand where we can use deep learning techniques, in this article, I will introduce you to the applications of deep learning.', \"Almost every app or website you visit today shows you what may interest you the most. For example, if you've been using YouTube for a long time, you must have seen content from your favourite creators or the type of videos you like to watch every time you visit YouTube. It is nothing more than a recommendation system. Recommendation systems are one of the most widely used applications in data science, and as a data scientist, you should know everything about recommender systems. In this article, I will therefore give you an introduction to recommendation systems in data science.\", 'There are so many algorithms in machine learning that you need to learn. Understanding the use cases of every machine learning algorithm is very difficult for every data science beginner, but it is very important as it helps you to choose the most suitable algorithm for your problem. So if you want to learn about the use cases of different machine learning algorithms, then this article is for you. In this article, I will take you through the use cases of some of the popular machine learning algorithms.', \"In machine learning, the Naive Bayes algorithm is based on Bayes' theorem with na\\x8bve assumptions. This makes it easier to train a model by assuming that the features are independent of each other. In this article, I will give you an introduction to the Naive Bayes algorithm in Machine Learning and its implementation using Python.\", \"Swapping elements of a Python list is very similar to swapping values of the variables in Python. We use the index of the items to swap the position of the items, just like variables in Python. So if you want to learn how to swap the position of items in a Python list, this article is for you. In this article, I'll show you a tutorial on how to swap items in a Python list.\"]\n"
          ]
        }
      ]
    },
    {
      "cell_type": "code",
      "source": [
        "# creating a TF-IDF vectorizer, and transforms the list of articles into a TF-IDF matrix\n",
        "tfidf_vectorizer = TfidfVectorizer(stop_words=\"english\")\n",
        "tfidf_matrix = tfidf_vectorizer.fit_transform(articles)"
      ],
      "metadata": {
        "id": "qSIOZAOqb1oE"
      },
      "execution_count": null,
      "outputs": []
    },
    {
      "cell_type": "code",
      "source": [
        "# printing the feature names\n",
        "tfidf_vectorizer.get_feature_names_out()"
      ],
      "metadata": {
        "colab": {
          "base_uri": "https://localhost:8080/"
        },
        "id": "yE4nkNcOdfzQ",
        "outputId": "d6b9c115-b0f2-424c-f57a-8e89acaedb59"
      },
      "execution_count": null,
      "outputs": [
        {
          "output_type": "execute_result",
          "data": {
            "text/plain": [
              "array(['10', '13', 'agglomerative', 'ago', 'algorithm', 'algorithms',\n",
              "       'analysis', 'analysts', 'analyze', 'animated', 'announced', 'api',\n",
              "       'apis', 'app', 'apple', 'application', 'applications', 'apps',\n",
              "       'article', 'artificial', 'assigned', 'assigning', 'assuming',\n",
              "       'assumptions', 'attention', 'automatically', 'automating',\n",
              "       'availability', 'available', 'awareness', 'backward', 'balanced',\n",
              "       'base', 'based', 'bayes', 'beginner', 'best', 'bidirectional',\n",
              "       'binary', 'birch', 'books', 'brain', 'build', 'building',\n",
              "       'businesses', 'called', 'capable', 'cases', 'categories', 'cent',\n",
              "       'centre', 'chatbot', 'choose', 'classes', 'classification',\n",
              "       'classify', 'clustering', 'clusters', 'comes', 'common',\n",
              "       'companies', 'compared', 'complex', 'computer', 'computers',\n",
              "       'concept', 'conclusions', 'confused', 'connect', 'content',\n",
              "       'cover', 'covers', 'create', 'creators', 'currently', 'data',\n",
              "       'dataset', 'date', 'dbscan', 'deal', 'decision', 'decisions',\n",
              "       'deep', 'demand', 'density', 'depends', 'detection', 'determine',\n",
              "       'developer', 'developers', 'development', 'device', 'dictionaries',\n",
              "       'dictionary', 'different', 'differentiate', 'difficult', 'digital',\n",
              "       'directly', 'distributed', 'divided', 'document', 'does', 'doesn',\n",
              "       'draw', 'ease', 'easier', 'educate', 'efficient', 'efficiently',\n",
              "       'elements', 'enables', 'engineer', 'entertainment', 'especially',\n",
              "       'event', 'example', 'examples', 'expenses', 'exploring', 'extend',\n",
              "       'face', 'facebook', 'factors', 'fall', 'favourite', 'features',\n",
              "       'feed', 'fields', 'file', 'follow', 'foreword', 'form', 'format',\n",
              "       'forward', 'frameworks', 'free', 'functionality', 'game',\n",
              "       'generated', 'gets', 'going', 'goldman', 'google', 'great',\n",
              "       'group', 'health', 'helps', 'hierarchical', 'hierarchies',\n",
              "       'hierarchy', 'high', 'human', 'humans', 'id', 'identify',\n",
              "       'identifying', 'images', 'implementation', 'important', 'increase',\n",
              "       'independent', 'index', 'india', 'information', 'inputs',\n",
              "       'inspecting', 'inspired', 'instagram', 'instances', 'insurance',\n",
              "       'intelligence', 'interact', 'interface', 'introduce',\n",
              "       'introduction', 'investors', 'iphone', 'iphones', 'issues',\n",
              "       'items', 'iterating', 'iterations', 'just', 'key', 'keys', 'know',\n",
              "       'knowledge', 'labels', 'language', 'languages', 'large', 'launch',\n",
              "       'learn', 'learning', 'like', 'list', 'listened', 'll', 'long',\n",
              "       'looking', 'loop', 'lot', 'machine', 'make', 'makes', 'making',\n",
              "       'manage', 'market', 'mean', 'meaningful', 'means', 'media',\n",
              "       'medical', 'messages', 'mimics', 'mlp', 'model', 'models',\n",
              "       'motors', 'multiclass', 'multilayer', 'multinomial', 'multiplayer',\n",
              "       'na', 'naive', 'natural', 'need', 'needed', 'negative', 'netflix',\n",
              "       'network', 'networks', 'neural', 'neurons', 'new', 'newbies',\n",
              "       'news', 'nlp', 'noise', 'nonparametric', 'number', 'opening',\n",
              "       'opinions', 'outperform', 'pairs', 'particular', 'party', 'paying',\n",
              "       'paypal', 'people', 'perceptron', 'perceptrons', 'performance',\n",
              "       'person', 'pfizer', 'photos', 'plot', 'policy', 'popular',\n",
              "       'population', 'position', 'post', 'powerful', 'predict',\n",
              "       'predicting', 'prediction', 'preferred', 'premium', 'present',\n",
              "       'price', 'prices', 'prior', 'problem', 'problems', 'process',\n",
              "       'processing', 'professionals', 'programming', 'programs',\n",
              "       'propagation', 'python', 'quickly', 'reasons', 'recently',\n",
              "       'recommendation', 'recommender', 'record', 'recorded', 'recorder',\n",
              "       'reducing', 'relationship', 'require', 'resources', 'resulted',\n",
              "       'reviews', 'sachs', 'samples', 'satisfies', 'save', 'scatter',\n",
              "       'science', 'scientist', 'scientists', 'seen', 'send', 'sentiment',\n",
              "       'sentiments', 'september', 'series', 'services', 'share', 'shares',\n",
              "       'shift', 'shows', 'signal', 'similar', 'simplest', 'simply',\n",
              "       'skills', 'smartphone', 'social', 'software', 'solve', 'solving',\n",
              "       'sound', 'sounds', 'sources', 'spam', 'spatial', 'specific',\n",
              "       'sports', 'squid', 'stands', 'stock', 'stocks', 'store', 'stored',\n",
              "       'structures', 'subfield', 'subset', 'suitable', 'swap', 'swapping',\n",
              "       'systems', 'taken', 'taking', 'task', 'tasks', 'tata', 'tech',\n",
              "       'techniques', 'text', 'theorem', 'think', 'time', 'today', 'topic',\n",
              "       'train', 'transferred', 'trending', 'tried', 'tutorial', 'tweets',\n",
              "       'twitter', 'type', 'types', 'uber', 'understand', 'understanding',\n",
              "       'unlabeled', 'unlike', 'unsupervised', 'use', 'used', 'useful',\n",
              "       'using', 'vaccine', 'value', 'values', 'variables', 'variants',\n",
              "       've', 'videos', 'viewers', 'vision', 'visit', 'visual',\n",
              "       'visualize', 'visualizing', 'voice', 'walk', 'want', 'watch',\n",
              "       'watched', 'watching', 'way', 'ways', 'web', 'website', 'websites',\n",
              "       'weights', 'widely', 'witnessing', 'workings', 'years', 'youtube'],\n",
              "      dtype=object)"
            ]
          },
          "metadata": {},
          "execution_count": 10
        }
      ]
    },
    {
      "cell_type": "code",
      "source": [
        "# Displaying matrix shape\n",
        "tfidf_matrix.shape"
      ],
      "metadata": {
        "colab": {
          "base_uri": "https://localhost:8080/"
        },
        "id": "8TYfH8Iyb_u9",
        "outputId": "fa746074-0805-4d8e-f1ce-d41b7a8b69d9"
      },
      "execution_count": null,
      "outputs": [
        {
          "output_type": "execute_result",
          "data": {
            "text/plain": [
              "(34, 407)"
            ]
          },
          "metadata": {},
          "execution_count": 12
        }
      ]
    },
    {
      "cell_type": "code",
      "source": [
        "# Printing a portion of the TF-IDF matrix (e.g., first 5 rows and 10 columns)\n",
        "print(tfidf_matrix[:5, :10])"
      ],
      "metadata": {
        "colab": {
          "base_uri": "https://localhost:8080/"
        },
        "id": "-AkbcOMjdNz7",
        "outputId": "b7a0900a-d52e-4aa6-fb9b-0861172406cc"
      },
      "execution_count": null,
      "outputs": [
        {
          "output_type": "stream",
          "name": "stdout",
          "text": [
            "  (0, 7)\t0.16565009461657373\n",
            "  (0, 6)\t0.3790509426885369\n",
            "  (1, 5)\t0.2739926613815469\n",
            "  (1, 4)\t0.2387514337269739\n",
            "  (3, 5)\t0.19629378681482187\n",
            "  (4, 4)\t0.34772434687075626\n"
          ]
        }
      ]
    },
    {
      "cell_type": "code",
      "source": [
        "# Compute cosine similarity between all articles in tfidf_matrix\n",
        "cosine_similarities = cosine_similarity(tfidf_matrix)"
      ],
      "metadata": {
        "id": "KNftj2F9hNqT"
      },
      "execution_count": null,
      "outputs": []
    },
    {
      "cell_type": "code",
      "source": [
        "# Print the cosine similarity matrix\n",
        "print(\"Cosine Similarity Matrix:\")\n",
        "print(cosine_similarities)"
      ],
      "metadata": {
        "colab": {
          "base_uri": "https://localhost:8080/"
        },
        "id": "3XVfzC27hPRK",
        "outputId": "3b25ca6b-def0-4277-d26f-6d6007e0ca76"
      },
      "execution_count": null,
      "outputs": [
        {
          "output_type": "stream",
          "name": "stdout",
          "text": [
            "Cosine Similarity Matrix:\n",
            "[[1.         0.02858003 0.02014231 ... 0.12022323 0.00455773 0.02511323]\n",
            " [0.02858003 1.         0.07651482 ... 0.30365338 0.27795728 0.00383369]\n",
            " [0.02014231 0.07651482 1.         ... 0.08401534 0.05252305 0.03233971]\n",
            " ...\n",
            " [0.12022323 0.30365338 0.08401534 ... 1.         0.12620279 0.04275628]\n",
            " [0.00455773 0.27795728 0.05252305 ... 0.12620279 1.         0.02113943]\n",
            " [0.02511323 0.00383369 0.03233971 ... 0.04275628 0.02113943 1.        ]]\n"
          ]
        }
      ]
    },
    {
      "cell_type": "code",
      "source": [
        "# Recommendation function to recommend articles based on similarity scores\n",
        "def recommend_articles(x):\n",
        "    top_indices = x.argsort()[-5:][::-1]  # Get indices of top 5 most similar articles\n",
        "    return \", \".join(df[\"Title\"].iloc[top_indices].tolist())"
      ],
      "metadata": {
        "id": "HHdloKItlknl"
      },
      "execution_count": null,
      "outputs": []
    },
    {
      "cell_type": "code",
      "source": [
        "# Applying recommendation function to each row\n",
        "df[\"Recommended Articles\"] = [recommend_articles(x) for x in cosine_similarities]\n",
        "df.head()"
      ],
      "metadata": {
        "colab": {
          "base_uri": "https://localhost:8080/",
          "height": 206
        },
        "id": "-5DLCi4mlq3A",
        "outputId": "bfe7bfef-eb4a-4ed0-c7fc-6ff3c95a6019"
      },
      "execution_count": null,
      "outputs": [
        {
          "output_type": "execute_result",
          "data": {
            "text/plain": [
              "                                             Article  \\\n",
              "0  Data analysis is the process of inspecting and...   \n",
              "1  The performance of a machine learning algorith...   \n",
              "2  You must have seen the news divided into categ...   \n",
              "3  When there are only two classes in a classific...   \n",
              "4  The Multinomial Naive Bayes is one of the vari...   \n",
              "\n",
              "                                               Title  \\\n",
              "0                  Best Books to Learn Data Analysis   \n",
              "1         Assumptions of Machine Learning Algorithms   \n",
              "2          News Classification with Machine Learning   \n",
              "3  Multiclass Classification Algorithms in Machin...   \n",
              "4        Multinomial Naive Bayes in Machine Learning   \n",
              "\n",
              "                                Recommended Articles  \n",
              "0  Best Books to Learn Data Analysis, Best Resour...  \n",
              "1  Assumptions of Machine Learning Algorithms, Us...  \n",
              "2  News Classification with Machine Learning, New...  \n",
              "3  Multiclass Classification Algorithms in Machin...  \n",
              "4  Multinomial Naive Bayes in Machine Learning, N...  "
            ],
            "text/html": [
              "\n",
              "  <div id=\"df-c156ac88-00e6-4176-8312-9b4266a3b4fb\" class=\"colab-df-container\">\n",
              "    <div>\n",
              "<style scoped>\n",
              "    .dataframe tbody tr th:only-of-type {\n",
              "        vertical-align: middle;\n",
              "    }\n",
              "\n",
              "    .dataframe tbody tr th {\n",
              "        vertical-align: top;\n",
              "    }\n",
              "\n",
              "    .dataframe thead th {\n",
              "        text-align: right;\n",
              "    }\n",
              "</style>\n",
              "<table border=\"1\" class=\"dataframe\">\n",
              "  <thead>\n",
              "    <tr style=\"text-align: right;\">\n",
              "      <th></th>\n",
              "      <th>Article</th>\n",
              "      <th>Title</th>\n",
              "      <th>Recommended Articles</th>\n",
              "    </tr>\n",
              "  </thead>\n",
              "  <tbody>\n",
              "    <tr>\n",
              "      <th>0</th>\n",
              "      <td>Data analysis is the process of inspecting and...</td>\n",
              "      <td>Best Books to Learn Data Analysis</td>\n",
              "      <td>Best Books to Learn Data Analysis, Best Resour...</td>\n",
              "    </tr>\n",
              "    <tr>\n",
              "      <th>1</th>\n",
              "      <td>The performance of a machine learning algorith...</td>\n",
              "      <td>Assumptions of Machine Learning Algorithms</td>\n",
              "      <td>Assumptions of Machine Learning Algorithms, Us...</td>\n",
              "    </tr>\n",
              "    <tr>\n",
              "      <th>2</th>\n",
              "      <td>You must have seen the news divided into categ...</td>\n",
              "      <td>News Classification with Machine Learning</td>\n",
              "      <td>News Classification with Machine Learning, New...</td>\n",
              "    </tr>\n",
              "    <tr>\n",
              "      <th>3</th>\n",
              "      <td>When there are only two classes in a classific...</td>\n",
              "      <td>Multiclass Classification Algorithms in Machin...</td>\n",
              "      <td>Multiclass Classification Algorithms in Machin...</td>\n",
              "    </tr>\n",
              "    <tr>\n",
              "      <th>4</th>\n",
              "      <td>The Multinomial Naive Bayes is one of the vari...</td>\n",
              "      <td>Multinomial Naive Bayes in Machine Learning</td>\n",
              "      <td>Multinomial Naive Bayes in Machine Learning, N...</td>\n",
              "    </tr>\n",
              "  </tbody>\n",
              "</table>\n",
              "</div>\n",
              "    <div class=\"colab-df-buttons\">\n",
              "\n",
              "  <div class=\"colab-df-container\">\n",
              "    <button class=\"colab-df-convert\" onclick=\"convertToInteractive('df-c156ac88-00e6-4176-8312-9b4266a3b4fb')\"\n",
              "            title=\"Convert this dataframe to an interactive table.\"\n",
              "            style=\"display:none;\">\n",
              "\n",
              "  <svg xmlns=\"http://www.w3.org/2000/svg\" height=\"24px\" viewBox=\"0 -960 960 960\">\n",
              "    <path d=\"M120-120v-720h720v720H120Zm60-500h600v-160H180v160Zm220 220h160v-160H400v160Zm0 220h160v-160H400v160ZM180-400h160v-160H180v160Zm440 0h160v-160H620v160ZM180-180h160v-160H180v160Zm440 0h160v-160H620v160Z\"/>\n",
              "  </svg>\n",
              "    </button>\n",
              "\n",
              "  <style>\n",
              "    .colab-df-container {\n",
              "      display:flex;\n",
              "      gap: 12px;\n",
              "    }\n",
              "\n",
              "    .colab-df-convert {\n",
              "      background-color: #E8F0FE;\n",
              "      border: none;\n",
              "      border-radius: 50%;\n",
              "      cursor: pointer;\n",
              "      display: none;\n",
              "      fill: #1967D2;\n",
              "      height: 32px;\n",
              "      padding: 0 0 0 0;\n",
              "      width: 32px;\n",
              "    }\n",
              "\n",
              "    .colab-df-convert:hover {\n",
              "      background-color: #E2EBFA;\n",
              "      box-shadow: 0px 1px 2px rgba(60, 64, 67, 0.3), 0px 1px 3px 1px rgba(60, 64, 67, 0.15);\n",
              "      fill: #174EA6;\n",
              "    }\n",
              "\n",
              "    .colab-df-buttons div {\n",
              "      margin-bottom: 4px;\n",
              "    }\n",
              "\n",
              "    [theme=dark] .colab-df-convert {\n",
              "      background-color: #3B4455;\n",
              "      fill: #D2E3FC;\n",
              "    }\n",
              "\n",
              "    [theme=dark] .colab-df-convert:hover {\n",
              "      background-color: #434B5C;\n",
              "      box-shadow: 0px 1px 3px 1px rgba(0, 0, 0, 0.15);\n",
              "      filter: drop-shadow(0px 1px 2px rgba(0, 0, 0, 0.3));\n",
              "      fill: #FFFFFF;\n",
              "    }\n",
              "  </style>\n",
              "\n",
              "    <script>\n",
              "      const buttonEl =\n",
              "        document.querySelector('#df-c156ac88-00e6-4176-8312-9b4266a3b4fb button.colab-df-convert');\n",
              "      buttonEl.style.display =\n",
              "        google.colab.kernel.accessAllowed ? 'block' : 'none';\n",
              "\n",
              "      async function convertToInteractive(key) {\n",
              "        const element = document.querySelector('#df-c156ac88-00e6-4176-8312-9b4266a3b4fb');\n",
              "        const dataTable =\n",
              "          await google.colab.kernel.invokeFunction('convertToInteractive',\n",
              "                                                    [key], {});\n",
              "        if (!dataTable) return;\n",
              "\n",
              "        const docLinkHtml = 'Like what you see? Visit the ' +\n",
              "          '<a target=\"_blank\" href=https://colab.research.google.com/notebooks/data_table.ipynb>data table notebook</a>'\n",
              "          + ' to learn more about interactive tables.';\n",
              "        element.innerHTML = '';\n",
              "        dataTable['output_type'] = 'display_data';\n",
              "        await google.colab.output.renderOutput(dataTable, element);\n",
              "        const docLink = document.createElement('div');\n",
              "        docLink.innerHTML = docLinkHtml;\n",
              "        element.appendChild(docLink);\n",
              "      }\n",
              "    </script>\n",
              "  </div>\n",
              "\n",
              "\n",
              "<div id=\"df-4bf8a358-af30-4180-a32f-e02b643d516c\">\n",
              "  <button class=\"colab-df-quickchart\" onclick=\"quickchart('df-4bf8a358-af30-4180-a32f-e02b643d516c')\"\n",
              "            title=\"Suggest charts\"\n",
              "            style=\"display:none;\">\n",
              "\n",
              "<svg xmlns=\"http://www.w3.org/2000/svg\" height=\"24px\"viewBox=\"0 0 24 24\"\n",
              "     width=\"24px\">\n",
              "    <g>\n",
              "        <path d=\"M19 3H5c-1.1 0-2 .9-2 2v14c0 1.1.9 2 2 2h14c1.1 0 2-.9 2-2V5c0-1.1-.9-2-2-2zM9 17H7v-7h2v7zm4 0h-2V7h2v10zm4 0h-2v-4h2v4z\"/>\n",
              "    </g>\n",
              "</svg>\n",
              "  </button>\n",
              "\n",
              "<style>\n",
              "  .colab-df-quickchart {\n",
              "      --bg-color: #E8F0FE;\n",
              "      --fill-color: #1967D2;\n",
              "      --hover-bg-color: #E2EBFA;\n",
              "      --hover-fill-color: #174EA6;\n",
              "      --disabled-fill-color: #AAA;\n",
              "      --disabled-bg-color: #DDD;\n",
              "  }\n",
              "\n",
              "  [theme=dark] .colab-df-quickchart {\n",
              "      --bg-color: #3B4455;\n",
              "      --fill-color: #D2E3FC;\n",
              "      --hover-bg-color: #434B5C;\n",
              "      --hover-fill-color: #FFFFFF;\n",
              "      --disabled-bg-color: #3B4455;\n",
              "      --disabled-fill-color: #666;\n",
              "  }\n",
              "\n",
              "  .colab-df-quickchart {\n",
              "    background-color: var(--bg-color);\n",
              "    border: none;\n",
              "    border-radius: 50%;\n",
              "    cursor: pointer;\n",
              "    display: none;\n",
              "    fill: var(--fill-color);\n",
              "    height: 32px;\n",
              "    padding: 0;\n",
              "    width: 32px;\n",
              "  }\n",
              "\n",
              "  .colab-df-quickchart:hover {\n",
              "    background-color: var(--hover-bg-color);\n",
              "    box-shadow: 0 1px 2px rgba(60, 64, 67, 0.3), 0 1px 3px 1px rgba(60, 64, 67, 0.15);\n",
              "    fill: var(--button-hover-fill-color);\n",
              "  }\n",
              "\n",
              "  .colab-df-quickchart-complete:disabled,\n",
              "  .colab-df-quickchart-complete:disabled:hover {\n",
              "    background-color: var(--disabled-bg-color);\n",
              "    fill: var(--disabled-fill-color);\n",
              "    box-shadow: none;\n",
              "  }\n",
              "\n",
              "  .colab-df-spinner {\n",
              "    border: 2px solid var(--fill-color);\n",
              "    border-color: transparent;\n",
              "    border-bottom-color: var(--fill-color);\n",
              "    animation:\n",
              "      spin 1s steps(1) infinite;\n",
              "  }\n",
              "\n",
              "  @keyframes spin {\n",
              "    0% {\n",
              "      border-color: transparent;\n",
              "      border-bottom-color: var(--fill-color);\n",
              "      border-left-color: var(--fill-color);\n",
              "    }\n",
              "    20% {\n",
              "      border-color: transparent;\n",
              "      border-left-color: var(--fill-color);\n",
              "      border-top-color: var(--fill-color);\n",
              "    }\n",
              "    30% {\n",
              "      border-color: transparent;\n",
              "      border-left-color: var(--fill-color);\n",
              "      border-top-color: var(--fill-color);\n",
              "      border-right-color: var(--fill-color);\n",
              "    }\n",
              "    40% {\n",
              "      border-color: transparent;\n",
              "      border-right-color: var(--fill-color);\n",
              "      border-top-color: var(--fill-color);\n",
              "    }\n",
              "    60% {\n",
              "      border-color: transparent;\n",
              "      border-right-color: var(--fill-color);\n",
              "    }\n",
              "    80% {\n",
              "      border-color: transparent;\n",
              "      border-right-color: var(--fill-color);\n",
              "      border-bottom-color: var(--fill-color);\n",
              "    }\n",
              "    90% {\n",
              "      border-color: transparent;\n",
              "      border-bottom-color: var(--fill-color);\n",
              "    }\n",
              "  }\n",
              "</style>\n",
              "\n",
              "  <script>\n",
              "    async function quickchart(key) {\n",
              "      const quickchartButtonEl =\n",
              "        document.querySelector('#' + key + ' button');\n",
              "      quickchartButtonEl.disabled = true;  // To prevent multiple clicks.\n",
              "      quickchartButtonEl.classList.add('colab-df-spinner');\n",
              "      try {\n",
              "        const charts = await google.colab.kernel.invokeFunction(\n",
              "            'suggestCharts', [key], {});\n",
              "      } catch (error) {\n",
              "        console.error('Error during call to suggestCharts:', error);\n",
              "      }\n",
              "      quickchartButtonEl.classList.remove('colab-df-spinner');\n",
              "      quickchartButtonEl.classList.add('colab-df-quickchart-complete');\n",
              "    }\n",
              "    (() => {\n",
              "      let quickchartButtonEl =\n",
              "        document.querySelector('#df-4bf8a358-af30-4180-a32f-e02b643d516c button');\n",
              "      quickchartButtonEl.style.display =\n",
              "        google.colab.kernel.accessAllowed ? 'block' : 'none';\n",
              "    })();\n",
              "  </script>\n",
              "</div>\n",
              "\n",
              "    </div>\n",
              "  </div>\n"
            ],
            "application/vnd.google.colaboratory.intrinsic+json": {
              "type": "dataframe",
              "variable_name": "df",
              "summary": "{\n  \"name\": \"df\",\n  \"rows\": 34,\n  \"fields\": [\n    {\n      \"column\": \"Article\",\n      \"properties\": {\n        \"dtype\": \"string\",\n        \"num_unique_values\": 33,\n        \"samples\": [\n          \"In machine learning, the Naive Bayes algorithm is based on Bayes' theorem with na\\u008bve assumptions. This makes it easier to train a model by assuming that the features are independent of each other. In this article, I will give you an introduction to the Naive Bayes algorithm in Machine Learning and its implementation using Python.\",\n          \"A neural network is a subset of machine learning that mimics the workings of a human brain while solving a complex problem based on deep learning. Neural networks are inspired by neurons found in the human brain. In this article, I'm going to introduce you to the types of neural networks you need to know as a Data Scientist.\",\n          \"Apple has just announced the date of its September event when it is about to launch the new iPhone 13. It is currently the centre of attention on the stock market. Stock market analysis is one of the popular applications of machine learning because we can predict stock prices using machine learning. So if you want to learn how to predict the stock prices of Apple with machine learning, this article is for you. In this article, I will walk you through the task of Apple stock price prediction with machine learning using Python.\"\n        ],\n        \"semantic_type\": \"\",\n        \"description\": \"\"\n      }\n    },\n    {\n      \"column\": \"Title\",\n      \"properties\": {\n        \"dtype\": \"string\",\n        \"num_unique_values\": 33,\n        \"samples\": [\n          \"Naive Bayes Algorithm in Machine Learning\",\n          \"Types of Neural Networks\",\n          \"Apple Stock Price Prediction with Machine Learning\"\n        ],\n        \"semantic_type\": \"\",\n        \"description\": \"\"\n      }\n    },\n    {\n      \"column\": \"Recommended Articles\",\n      \"properties\": {\n        \"dtype\": \"string\",\n        \"num_unique_values\": 33,\n        \"samples\": [\n          \"Naive Bayes Algorithm in Machine Learning, Multinomial Naive Bayes in Machine Learning, Assumptions of Machine Learning Algorithms, Mean Shift Clustering in Machine Learning, BIRCH Clustering in Machine Learning\",\n          \"Types of Neural Networks, Best Books to Learn Deep Learning, Multilayer Perceptron in Machine Learning, Applications of Deep Learning, Use Cases of Different Machine Learning Algorithms\",\n          \"Apple Stock Price Prediction with Machine Learning, Tata Motors Stock Price Prediction with Machine Learning, Best Books to Learn Deep Learning, Use Cases of Different Machine Learning Algorithms, Assumptions of Machine Learning Algorithms\"\n        ],\n        \"semantic_type\": \"\",\n        \"description\": \"\"\n      }\n    }\n  ]\n}"
            }
          },
          "metadata": {},
          "execution_count": 21
        }
      ]
    },
    {
      "cell_type": "code",
      "source": [
        "# accessing the content of the \"Article\" column for the first row (index 1) in the DataFrame df\n",
        "print(df[\"Article\"][1])"
      ],
      "metadata": {
        "colab": {
          "base_uri": "https://localhost:8080/"
        },
        "id": "yKufur22m28L",
        "outputId": "b10bc6bb-b759-4813-8a6b-a72a392908f5"
      },
      "execution_count": null,
      "outputs": [
        {
          "output_type": "stream",
          "name": "stdout",
          "text": [
            "The performance of a machine learning algorithm on a particular dataset often depends on whether the features of the dataset satisfies the assumptions of that machine learning algorithm. Not all machine learning algorithms have assumptions that differentiate them from each other. So, in this article, I will take you through the assumptions of machine learning algorithms.\n"
          ]
        }
      ]
    },
    {
      "cell_type": "code",
      "source": [
        "# accessing the title of the article in the DataFrame df at index 1\n",
        "print(df[\"Title\"][1])"
      ],
      "metadata": {
        "colab": {
          "base_uri": "https://localhost:8080/"
        },
        "id": "ayUv-52Sm2Tz",
        "outputId": "09a726e3-ba1a-49d9-e604-5c0ff4d5928f"
      },
      "execution_count": null,
      "outputs": [
        {
          "output_type": "stream",
          "name": "stdout",
          "text": [
            "Assumptions of Machine Learning Algorithms\n"
          ]
        }
      ]
    },
    {
      "cell_type": "code",
      "source": [
        "# accessing the recommended articles for the article at index 1 in the DataFrame df\n",
        "print(df[\"Recommended Articles\"][1])"
      ],
      "metadata": {
        "colab": {
          "base_uri": "https://localhost:8080/"
        },
        "id": "vJ-1MCuFm1B3",
        "outputId": "e2a4e62a-8ab1-4b14-cebe-6b0b10f96067"
      },
      "execution_count": null,
      "outputs": [
        {
          "output_type": "stream",
          "name": "stdout",
          "text": [
            "Assumptions of Machine Learning Algorithms, Use Cases of Different Machine Learning Algorithms, Naive Bayes Algorithm in Machine Learning, Best Books to Learn Deep Learning, Applications of Deep Learning\n"
          ]
        }
      ]
    }
  ]
}